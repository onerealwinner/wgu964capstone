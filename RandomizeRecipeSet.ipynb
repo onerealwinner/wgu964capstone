{
 "metadata": {
  "language_info": {
   "codemirror_mode": {
    "name": "ipython",
    "version": 3
   },
   "file_extension": ".py",
   "mimetype": "text/x-python",
   "name": "python",
   "nbconvert_exporter": "python",
   "pygments_lexer": "ipython3",
   "version": "3.8.3"
  },
  "orig_nbformat": 4,
  "kernelspec": {
   "name": "python3",
   "display_name": "Python 3.8.3 64-bit ('base': conda)"
  },
  "interpreter": {
   "hash": "73e03da126b73bfff3642ec5261d56fa25c444ea595de51041687efaa60dda41"
  }
 },
 "nbformat": 4,
 "nbformat_minor": 2,
 "cells": [
  {
   "cell_type": "code",
   "execution_count": 16,
   "metadata": {},
   "outputs": [
    {
     "output_type": "stream",
     "name": "stdout",
     "text": [
      "reviews: 231637\n"
     ]
    }
   ],
   "source": [
    "import pandas as pd\n",
    "import numpy as np\n",
    "\n",
    "dfRecipes = pd.read_csv('data/raw_recipes.csv')\n",
    "\n",
    "# Shapes of dataframes\n",
    "dfRecipes.rename(columns={'id':'recipe_id'}, inplace=True)\n",
    "print(\"reviews:\", dfRecipes.shape[0])"
   ]
  },
  {
   "cell_type": "code",
   "execution_count": 17,
   "metadata": {},
   "outputs": [],
   "source": [
    "dfRecipes['IsMainDish'] = 0\n",
    "dfRecipes.loc[dfRecipes['tags'].str.contains('\\'main-dish\\''), 'IsMainDish'] = 1\n",
    "\n",
    "dfRecipes['IsMeatDish'] = 0\n",
    "dfRecipes.loc[dfRecipes['tags'].str.contains('\\'meat\\''), 'IsMeatDish'] = 1\n",
    "\n",
    "dfRecipes['IsVegetarian'] = 0\n",
    "dfRecipes.loc[dfRecipes['tags'].str.contains('\\'vegetarian\\''), 'IsVegetarian'] = 1\n",
    "\n",
    "dfRecipes['IsDessert'] = 0\n",
    "dfRecipes.loc[dfRecipes['tags'].str.contains('\\'desserts\\''), 'IsDessert'] = 1\n",
    "\n",
    "dfRecipes['IsHealthy'] = 0\n",
    "dfRecipes.loc[dfRecipes['tags'].str.contains('\\'healthy\\''), 'IsHealthy'] = 1\n",
    "\n",
    "dfRecipes['IsSideDish'] = 0\n",
    "dfRecipes.loc[dfRecipes['tags'].str.contains('\\'side-dishes\\''), 'IsSideDish'] = 1\n",
    "\n",
    "dfRecipes['HasEggsOrDairy'] = 0\n",
    "dfRecipes.loc[dfRecipes['tags'].str.contains('\\'eggs-dairy\\''), 'HasEggsOrDairy'] = 1\n",
    "\n",
    "dfRecipes['HasNuts'] = 0\n",
    "dfRecipes.loc[dfRecipes['tags'].str.contains('\\'nuts\\''), 'HasNuts'] = 1\n",
    "\n",
    "dfRecipes['HasShellfish'] = 0\n",
    "dfRecipes.loc[dfRecipes['tags'].str.contains('\\'shellfish\\''), 'HasShellfish'] = 1\n",
    "\n",
    "dfRecipes['IsLunch'] = 0\n",
    "dfRecipes.loc[dfRecipes['tags'].str.contains('\\'lunch\\''), 'IsLunch'] = 1\n",
    "\n",
    "dfRecipes['IsBreakfast'] = 0\n",
    "dfRecipes.loc[dfRecipes['tags'].str.contains('\\'breakfast\\''), 'IsBreakfast'] = 1"
   ]
  },
  {
   "cell_type": "code",
   "execution_count": null,
   "metadata": {},
   "outputs": [],
   "source": []
  },
  {
   "cell_type": "code",
   "execution_count": 18,
   "metadata": {},
   "outputs": [],
   "source": [
    "# #Create fields for mealtime - and mealtype\n",
    "# dfRecipes['MealTime'] = 'Any'\n",
    "# dfRecipes.loc[dfRecipes['ingredients'].str.contains('\\'side-dishes\\''), 'MealTime'] = 'Side dish'\n",
    "# dfRecipes.loc[dfRecipes['ingredients'].str.contains('\\'desserts\\''), 'MealTime'] = 'Desserts'\n",
    "# dfRecipes.loc[dfRecipes['ingredients'].str.contains('\\'breakfast\\''), 'MealTime'] = 'Breakfast'\n",
    "# dfRecipes.loc[dfRecipes['ingredients'].str.contains('\\'lunch\\''), 'MealTime'] = 'Lunch'\n",
    "# dfRecipes.loc[dfRecipes['ingredients'].str.contains('\\'main-dish\\''), 'MealTime'] = 'Dinner'\n",
    "\n",
    "# dfRecipes['MealType'] = 'Any'\n",
    "# dfRecipes.loc[dfRecipes['ingredients'].str.contains('\\'healthy\\''), 'MealType'] = 'Healthy'\n",
    "# dfRecipes.loc[dfRecipes['ingredients'].str.contains('\\'meat\\''), 'MealType'] = 'Meat'\n",
    "# dfRecipes.loc[dfRecipes['ingredients'].str.contains('\\'vegetarian\\''), 'MealType'] = 'Vegetarian'"
   ]
  },
  {
   "cell_type": "code",
   "execution_count": 19,
   "metadata": {},
   "outputs": [
    {
     "output_type": "stream",
     "name": "stdout",
     "text": [
      "Number of steps in the top 95 quantile 21.0\nNumber of ingredients in the top 95 quantile 16.0\nNumber of calories in the top 95 quantile 1268.7199999999982\nNumber of minutes in the top 95 quantile 255.0\n"
     ]
    }
   ],
   "source": [
    "#remove some outliers\n",
    "dfRecipes[['calories','fat','sugar','sodium','protein','saturated fat','carbs']] = dfRecipes['nutrition'].str.split(\",\",expand=True)\n",
    "dfRecipes['calories'] = dfRecipes['calories'].str.strip('[').astype('float')\n",
    "dfRecipes['carbs'] = dfRecipes['carbs'].str.strip(']').astype('float')\n",
    "dfRecipes['fat'] = dfRecipes['fat'].astype('float')\n",
    "dfRecipes['sugar'] = dfRecipes['sugar'].astype('float')\n",
    "dfRecipes['sodium'] = dfRecipes['sodium'].astype('float')\n",
    "dfRecipes['protein'] = dfRecipes['protein'].astype('float')\n",
    "dfRecipes['saturated fat'] = dfRecipes['saturated fat'].astype('float')\n",
    "\n",
    "topQuantileSteps = dfRecipes['n_steps'].quantile(0.95)\n",
    "print('Number of steps in the top 95 quantile', topQuantileSteps)\n",
    "\n",
    "topQuantileIngredients = dfRecipes['n_ingredients'].quantile(0.95)\n",
    "print('Number of ingredients in the top 95 quantile', topQuantileIngredients)\n",
    "\n",
    "topQuantileCalories = dfRecipes['calories'].quantile(0.95)\n",
    "print('Number of calories in the top 95 quantile', topQuantileCalories)\n",
    "\n",
    "topQuantileMinutes = dfRecipes['minutes'].quantile(0.95)\n",
    "print('Number of minutes in the top 95 quantile', topQuantileMinutes)"
   ]
  },
  {
   "cell_type": "code",
   "execution_count": 20,
   "metadata": {},
   "outputs": [
    {
     "output_type": "stream",
     "name": "stdout",
     "text": [
      "Reduced to 195442 rows\n"
     ]
    }
   ],
   "source": [
    "#Remove the outliers\n",
    "dfRecipesDropped = dfRecipes.loc[(dfRecipes['calories'] <= topQuantileCalories) & (dfRecipes['n_ingredients'] <= topQuantileIngredients) & (dfRecipes['n_steps'] <= topQuantileSteps) & (dfRecipes['minutes'] <= topQuantileMinutes)]\n",
    "\n",
    "print('Reduced to',dfRecipesDropped.shape[0],'rows')"
   ]
  },
  {
   "cell_type": "code",
   "execution_count": 21,
   "metadata": {},
   "outputs": [
    {
     "output_type": "stream",
     "name": "stdout",
     "text": [
      "1132367\n"
     ]
    }
   ],
   "source": [
    "#Get the review data\n",
    "dfReviews = pd.read_csv('data/raw_interactions.csv')\n",
    "print(dfReviews.shape[0])"
   ]
  },
  {
   "cell_type": "code",
   "execution_count": 22,
   "metadata": {},
   "outputs": [
    {
     "output_type": "stream",
     "name": "stdout",
     "text": [
      "Recipes Reviews Grouped Row Count 231637\n           rating_sum  rating_count  rating_average\nrecipe_id                                          \n2886             6752          1613        4.185989\n27208            6866          1601        4.288570\n89204            6664          1579        4.220393\n39087            6576          1448        4.541436\n67256            5723          1322        4.329047\n54257            5499          1305        4.213793\n22782            5458          1234        4.423015\n32204            5521          1220        4.525410\n69173            4694           997        4.708124\n68955            3976           904        4.398230\n"
     ]
    }
   ],
   "source": [
    "dfReviewsGroup = dfReviews.groupby('recipe_id')['rating'].agg(['sum','count']).sort_values(by='count',ascending=False)\n",
    "\n",
    "dfReviewsGroup['rating_average']= dfReviewsGroup['sum'] / dfReviewsGroup['count']\n",
    "dfReviewsGroup.rename(columns={'sum':'rating_sum'}, inplace=True)\n",
    "dfReviewsGroup.rename(columns={'count':'rating_count'}, inplace=True)\n",
    "print('Recipes Reviews Grouped Row Count', dfReviewsGroup.shape[0])\n",
    "print(dfReviewsGroup.head(10))"
   ]
  },
  {
   "cell_type": "code",
   "execution_count": 23,
   "metadata": {},
   "outputs": [
    {
     "output_type": "stream",
     "name": "stdout",
     "text": [
      "Average Review score is 4.346246073856186\n"
     ]
    }
   ],
   "source": [
    "avgReview = dfReviewsGroup['rating_average'].mean()\n",
    "print('Average Review score is', avgReview)"
   ]
  },
  {
   "cell_type": "code",
   "execution_count": 24,
   "metadata": {},
   "outputs": [
    {
     "output_type": "stream",
     "name": "stdout",
     "text": [
      "Number of votes in the top 99 quantile 47.0\n"
     ]
    }
   ],
   "source": [
    "topQuantile = dfReviewsGroup['rating_count'].quantile(0.99)\n",
    "print('Number of votes in the top 99 quantile', topQuantile)"
   ]
  },
  {
   "cell_type": "code",
   "execution_count": 25,
   "metadata": {},
   "outputs": [
    {
     "output_type": "execute_result",
     "data": {
      "text/plain": [
       "           rating_sum  rating_count  rating_average\n",
       "recipe_id                                          \n",
       "2886             6752          1613        4.185989\n",
       "27208            6866          1601        4.288570\n",
       "89204            6664          1579        4.220393\n",
       "39087            6576          1448        4.541436\n",
       "67256            5723          1322        4.329047\n",
       "...               ...           ...             ...\n",
       "76453             211            47        4.489362\n",
       "69850             209            47        4.446809\n",
       "40107             215            47        4.574468\n",
       "85857             209            47        4.446809\n",
       "230385            195            47        4.148936\n",
       "\n",
       "[2354 rows x 3 columns]"
      ],
      "text/html": "<div>\n<style scoped>\n    .dataframe tbody tr th:only-of-type {\n        vertical-align: middle;\n    }\n\n    .dataframe tbody tr th {\n        vertical-align: top;\n    }\n\n    .dataframe thead th {\n        text-align: right;\n    }\n</style>\n<table border=\"1\" class=\"dataframe\">\n  <thead>\n    <tr style=\"text-align: right;\">\n      <th></th>\n      <th>rating_sum</th>\n      <th>rating_count</th>\n      <th>rating_average</th>\n    </tr>\n    <tr>\n      <th>recipe_id</th>\n      <th></th>\n      <th></th>\n      <th></th>\n    </tr>\n  </thead>\n  <tbody>\n    <tr>\n      <th>2886</th>\n      <td>6752</td>\n      <td>1613</td>\n      <td>4.185989</td>\n    </tr>\n    <tr>\n      <th>27208</th>\n      <td>6866</td>\n      <td>1601</td>\n      <td>4.288570</td>\n    </tr>\n    <tr>\n      <th>89204</th>\n      <td>6664</td>\n      <td>1579</td>\n      <td>4.220393</td>\n    </tr>\n    <tr>\n      <th>39087</th>\n      <td>6576</td>\n      <td>1448</td>\n      <td>4.541436</td>\n    </tr>\n    <tr>\n      <th>67256</th>\n      <td>5723</td>\n      <td>1322</td>\n      <td>4.329047</td>\n    </tr>\n    <tr>\n      <th>...</th>\n      <td>...</td>\n      <td>...</td>\n      <td>...</td>\n    </tr>\n    <tr>\n      <th>76453</th>\n      <td>211</td>\n      <td>47</td>\n      <td>4.489362</td>\n    </tr>\n    <tr>\n      <th>69850</th>\n      <td>209</td>\n      <td>47</td>\n      <td>4.446809</td>\n    </tr>\n    <tr>\n      <th>40107</th>\n      <td>215</td>\n      <td>47</td>\n      <td>4.574468</td>\n    </tr>\n    <tr>\n      <th>85857</th>\n      <td>209</td>\n      <td>47</td>\n      <td>4.446809</td>\n    </tr>\n    <tr>\n      <th>230385</th>\n      <td>195</td>\n      <td>47</td>\n      <td>4.148936</td>\n    </tr>\n  </tbody>\n</table>\n<p>2354 rows × 3 columns</p>\n</div>"
     },
     "metadata": {},
     "execution_count": 25
    }
   ],
   "source": [
    "topQuantileReviews = dfReviewsGroup.copy().loc[dfReviewsGroup['rating_count'] >= topQuantile]\n",
    "topQuantileReviews"
   ]
  },
  {
   "cell_type": "code",
   "execution_count": 26,
   "metadata": {},
   "outputs": [],
   "source": [
    "def weighted_rating(x, m=topQuantile, C=avgReview):\n",
    "    v = x['rating_count']\n",
    "    R = x['rating_average']\n",
    "    return (v/(v+m) * R) + (m/(m+v) * C)"
   ]
  },
  {
   "cell_type": "code",
   "execution_count": 27,
   "metadata": {},
   "outputs": [],
   "source": [
    "topQuantileReviews['weightedRating'] = topQuantileReviews.apply(weighted_rating, axis=1)"
   ]
  },
  {
   "cell_type": "code",
   "execution_count": 28,
   "metadata": {},
   "outputs": [],
   "source": [
    "dfRecipes = dfRecipes.merge(dfReviewsGroup, left_on=\"recipe_id\", right_on=\"recipe_id\", how=\"inner\")\n",
    "#dfRecipes.head(5)"
   ]
  },
  {
   "cell_type": "code",
   "execution_count": 32,
   "metadata": {},
   "outputs": [
    {
     "output_type": "stream",
     "name": "stdout",
     "text": [
      "Sample 10% reduces the dataframe to 23164 rows\n"
     ]
    }
   ],
   "source": [
    "#Finally save all the data\n",
    "dfReduced = dfRecipes.sample(frac=.1)\n",
    "dfReduced.to_csv('data/reducedRecipes.csv', index=False)\n",
    "print('Sample 10% reduces the dataframe to',dfReduced.shape[0],'rows')"
   ]
  },
  {
   "cell_type": "code",
   "execution_count": null,
   "metadata": {},
   "outputs": [],
   "source": []
  }
 ]
}